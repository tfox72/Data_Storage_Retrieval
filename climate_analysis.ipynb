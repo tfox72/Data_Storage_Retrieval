{
 "cells": [
  {
   "cell_type": "markdown",
   "metadata": {},
   "source": [
    "## Step 3 - Climate Analysis and Exploration\n",
    "\n",
    "You are now ready to use Python and SQLAlchemy to do basic climate analysis and data exploration on your new weather station tables. All of the following analysis should be completed using SQLAlchemy ORM queries, Pandas, and Matplotlib.\n",
    "\n",
    "* Create a Jupyter Notebook file called `climate_analysis.ipynb` and use it to complete your climate analysis and data exporation.\n",
    "\n",
    "* Choose a start date and end date for your trip. Make sure that your vacation range is approximately 3-15 days total.\n",
    "\n",
    "* Use SQLAlchemy `create_engine` to connect to your sqlite database.\n",
    "\n",
    "* Use SQLAlchemy `automap_base()` to reflect your tables into classes and save a reference to those classes called `Station` and `Measurement`.\n",
    "\n",
    "### Precipitation Analysis\n",
    "\n",
    "* Design a query to retrieve the last 12 months of precipitation data.\n",
    "\n",
    "* Select only the `date` and `prcp` values.\n",
    "\n",
    "* Load the query results into a Pandas DataFrame and set the index to the date column.\n",
    "\n",
    "* Plot the results using the DataFrame `plot` method.\n",
    "\n",
    "<center><img src='precip.png' /></center>\n",
    "\n",
    "* Use Pandas to print the summary statistics for the precipitation data.\n",
    "\n",
    "### Station Analysis\n",
    "\n",
    "* Design a query to calculate the total number of stations.\n",
    "\n",
    "* Design a query to find the most active stations.\n",
    "\n",
    "  * List the stations and observation counts in descending order\n",
    "\n",
    "  * Which station has the highest number of observations?\n",
    "\n",
    "* Design a query to retrieve the last 12 months of temperature observation data (tobs).\n",
    "\n",
    "  * Filter by the station with the highest number of observations.\n",
    "\n",
    "  * Plot the results as a histogram with `bins=12`.\n",
    "\n",
    "  <center><img src='temp_hist.png' height=\"10px\" /></center>\n",
    "\n",
    "### Temperature Analysis\n",
    "\n",
    "* Write a function called `calc_temps` that will accept a start date and end date in the format `%Y-%m-%d` and return the minimum, average, and maximum temperatures for that range of dates.\n",
    "\n",
    "* Use the `calc_temps` function to calculate the min, avg, and max temperatures for your trip using the matching dates from the previous year (i.e. use \"2017-01-01\" if your trip start date was \"2018-01-01\")\n",
    "\n",
    "* Plot the min, avg, and max temperature from your previous query as a bar chart.\n",
    "\n",
    "  * Use the average temperature as the bar height.\n",
    "\n",
    "  * Use the peak-to-peak (tmax-tmin) value as the y error bar (yerr).\n",
    "\n",
    "<center><img src='temp_avg.png' height=\"10px\"/></center>\n",
    "\n"
   ]
  },
  {
   "cell_type": "code",
   "execution_count": 1,
   "metadata": {
    "collapsed": true
   },
   "outputs": [],
   "source": [
    "# Import required libraries and SQL Toolkit\n",
    "import pandas as pd\n",
    "import matplotlib.pyplot as plt\n",
    "import numpy as np\n",
    "import sqlalchemy\n",
    "from sqlalchemy.ext.automap import automap_base\n",
    "from sqlalchemy.orm import Session\n",
    "from sqlalchemy import create_engine\n",
    "from sqlalchemy.sql.expression import func\n",
    "import datetime as dt\n"
   ]
  },
  {
   "cell_type": "code",
   "execution_count": 2,
   "metadata": {
    "collapsed": true
   },
   "outputs": [],
   "source": [
    "# Use SQLAlchemy create_engine to connect to your sqlite database.\n",
    "engine = create_engine(\"sqlite:///hawaii.sqlite\", echo=False)"
   ]
  },
  {
   "cell_type": "code",
   "execution_count": 3,
   "metadata": {},
   "outputs": [
    {
     "data": {
      "text/plain": [
       "['measure', 'station']"
      ]
     },
     "execution_count": 3,
     "metadata": {},
     "output_type": "execute_result"
    }
   ],
   "source": [
    "# Use SQLAlchemy automap_base() to reflect your tables into classes and save a reference to those classes called Station and Measurement.\n",
    "\n",
    "Base = automap_base()\n",
    "Base.prepare(engine, reflect=True)\n",
    "Base.classes.keys()"
   ]
  },
  {
   "cell_type": "code",
   "execution_count": 4,
   "metadata": {
    "collapsed": true
   },
   "outputs": [],
   "source": [
    "#Use SQLAlchemy automap_base() to reflect your tables into classes and save a reference to those classes called Station and Measurement.\n",
    "\n",
    "Measurement = Base.classes.measure\n",
    "Station = Base.classes.station"
   ]
  },
  {
   "cell_type": "code",
   "execution_count": 5,
   "metadata": {
    "collapsed": true
   },
   "outputs": [],
   "source": [
    "session = Session(engine)"
   ]
  },
  {
   "cell_type": "code",
   "execution_count": 6,
   "metadata": {},
   "outputs": [
    {
     "data": {
      "text/plain": [
       "(18103, list)"
      ]
     },
     "execution_count": 6,
     "metadata": {},
     "output_type": "execute_result"
    }
   ],
   "source": [
    "#Check to see if all of the data was loaded and as what type\n",
    "H_measure = session.query(Measurement).all()\n",
    "len(H_measure), type(H_measure)\n"
   ]
  },
  {
   "cell_type": "code",
   "execution_count": 8,
   "metadata": {},
   "outputs": [
    {
     "data": {
      "text/plain": [
       "list"
      ]
     },
     "execution_count": 8,
     "metadata": {},
     "output_type": "execute_result"
    }
   ],
   "source": [
    "precipitation= session.query(Measurement.date, Measurement.prcp).filter(Measurement.date >= (dt.date.today() - dt.timedelta(days=365))).all()\n",
    "type(precipitation)"
   ]
  },
  {
   "cell_type": "code",
   "execution_count": 9,
   "metadata": {},
   "outputs": [
    {
     "data": {
      "text/html": [
       "<div>\n",
       "<style>\n",
       "    .dataframe thead tr:only-child th {\n",
       "        text-align: right;\n",
       "    }\n",
       "\n",
       "    .dataframe thead th {\n",
       "        text-align: left;\n",
       "    }\n",
       "\n",
       "    .dataframe tbody tr th {\n",
       "        vertical-align: top;\n",
       "    }\n",
       "</style>\n",
       "<table border=\"1\" class=\"dataframe\">\n",
       "  <thead>\n",
       "    <tr style=\"text-align: right;\">\n",
       "      <th></th>\n",
       "      <th>prcp</th>\n",
       "    </tr>\n",
       "    <tr>\n",
       "      <th>date</th>\n",
       "      <th></th>\n",
       "    </tr>\n",
       "  </thead>\n",
       "  <tbody>\n",
       "    <tr>\n",
       "      <th>2017-01-23</th>\n",
       "      <td>0.00</td>\n",
       "    </tr>\n",
       "    <tr>\n",
       "      <th>2017-01-23</th>\n",
       "      <td>0.00</td>\n",
       "    </tr>\n",
       "    <tr>\n",
       "      <th>2017-01-23</th>\n",
       "      <td>0.08</td>\n",
       "    </tr>\n",
       "    <tr>\n",
       "      <th>2017-01-23</th>\n",
       "      <td>0.01</td>\n",
       "    </tr>\n",
       "    <tr>\n",
       "      <th>2017-01-23</th>\n",
       "      <td>0.85</td>\n",
       "    </tr>\n",
       "  </tbody>\n",
       "</table>\n",
       "</div>"
      ],
      "text/plain": [
       "            prcp\n",
       "date            \n",
       "2017-01-23  0.00\n",
       "2017-01-23  0.00\n",
       "2017-01-23  0.08\n",
       "2017-01-23  0.01\n",
       "2017-01-23  0.85"
      ]
     },
     "execution_count": 9,
     "metadata": {},
     "output_type": "execute_result"
    }
   ],
   "source": [
    "# Create a Dataframe from the precipitation query result list\n",
    "precipitation_db= pd.DataFrame(precipitation).set_index('date')\n",
    "precipitation_db.sort_index().head()"
   ]
  },
  {
   "cell_type": "code",
   "execution_count": 10,
   "metadata": {},
   "outputs": [
    {
     "data": {
      "image/png": "[encoded data removed]",
      "text/plain": [
       "<matplotlib.figure.Figure at 0x212158fdb38>"
      ]
     },
     "metadata": {},
     "output_type": "display_data"
    }
   ],
   "source": [
    "#Plot the results using the DataFrame plot method.\n",
    "\n",
    "x = range(len(precipitation_db.index.values))\n",
    "y = precipitation_db[\"prcp\"]\n",
    "plt.bar(x, y,width=20)\n",
    "labels= precipitation_db.index.values\n",
    "plt.xticks(range(len(precipitation_db.index.values)), labels, rotation=45)\n",
    "plt.title(\"Precipitation\")\n",
    "plt.locator_params(nbins=12, axis= \"x\")\n",
    "plt.ylabel('Inches')\n",
    "\n",
    "plt.show()"
   ]
  },
  {
   "cell_type": "code",
   "execution_count": 11,
   "metadata": {},
   "outputs": [
    {
     "data": {
      "text/plain": [
       "(9, 9)"
      ]
     },
     "execution_count": 11,
     "metadata": {},
     "output_type": "execute_result"
    }
   ],
   "source": [
    "# Design a query to calculate the total number of stations.\n",
    "\n",
    "total_stations_s = session.query(Station.station).count()\n",
    "total_stations_m = session.query(Measurement.station).group_by(Measurement.station).count()\n",
    "total_stations_s, total_stations_m"
   ]
  },
  {
   "cell_type": "code",
   "execution_count": 12,
   "metadata": {},
   "outputs": [
    {
     "data": {
      "text/plain": [
       "[('USC00519397', 200205),\n",
       " ('USC00519281', 198652),\n",
       " ('USC00513117', 195940),\n",
       " ('USC00519523', 191698),\n",
       " ('USC00516128', 176029),\n",
       " ('USC00514830', 144913),\n",
       " ('USC00511918', 138191),\n",
       " ('USC00517948', 50943),\n",
       " ('USC00518838', 24855)]"
      ]
     },
     "execution_count": 12,
     "metadata": {},
     "output_type": "execute_result"
    }
   ],
   "source": [
    "precipitation2= session.query(Measurement.station,func.sum(Measurement.tobs)).group_by(Measurement.station).order_by(func.sum(Measurement.tobs).desc()).all()\n",
    "precipitation2"
   ]
  },
  {
   "cell_type": "code",
   "execution_count": 13,
   "metadata": {},
   "outputs": [
    {
     "data": {
      "text/plain": [
       "[('2017-01-23', 72),\n",
       " ('2017-01-24', 69),\n",
       " ('2017-01-25', 72),\n",
       " ('2017-01-26', 71),\n",
       " ('2017-01-27', 65),\n",
       " ('2017-01-28', 64),\n",
       " ('2017-01-29', 67),\n",
       " ('2017-01-30', 67),\n",
       " ('2017-01-31', 68),\n",
       " ('2017-02-01', 70),\n",
       " ('2017-02-02', 61),\n",
       " ('2017-02-03', 65),\n",
       " ('2017-02-04', 72),\n",
       " ('2017-02-05', 73),\n",
       " ('2017-02-06', 76),\n",
       " ('2017-02-07', 64),\n",
       " ('2017-02-08', 62),\n",
       " ('2017-02-09', 61),\n",
       " ('2017-02-10', 71),\n",
       " ('2017-02-11', 69),\n",
       " ('2017-02-12', 68),\n",
       " ('2017-02-13', 74),\n",
       " ('2017-02-14', 75),\n",
       " ('2017-02-15', 75),\n",
       " ('2017-02-16', 71),\n",
       " ('2017-02-17', 71),\n",
       " ('2017-02-18', 68),\n",
       " ('2017-02-19', 69),\n",
       " ('2017-02-20', 71),\n",
       " ('2017-02-21', 70),\n",
       " ('2017-02-22', 72),\n",
       " ('2017-02-23', 74),\n",
       " ('2017-02-24', 70),\n",
       " ('2017-02-25', 64),\n",
       " ('2017-02-26', 65),\n",
       " ('2017-02-27', 72),\n",
       " ('2017-02-28', 74),\n",
       " ('2017-03-01', 66),\n",
       " ('2017-03-02', 73),\n",
       " ('2017-03-03', 69),\n",
       " ('2017-03-04', 74),\n",
       " ('2017-03-05', 71),\n",
       " ('2017-03-06', 69),\n",
       " ('2017-03-07', 68),\n",
       " ('2017-03-08', 71),\n",
       " ('2017-03-09', 72),\n",
       " ('2017-03-10', 68),\n",
       " ('2017-03-11', 71),\n",
       " ('2017-03-12', 74),\n",
       " ('2017-03-13', 71),\n",
       " ('2017-03-14', 71),\n",
       " ('2017-03-15', 71),\n",
       " ('2017-03-16', 70),\n",
       " ('2017-03-17', 72),\n",
       " ('2017-03-18', 69),\n",
       " ('2017-03-19', 73),\n",
       " ('2017-03-20', 75),\n",
       " ('2017-03-21', 75),\n",
       " ('2017-03-22', 74),\n",
       " ('2017-03-23', 70),\n",
       " ('2017-03-24', 73),\n",
       " ('2017-03-25', 76),\n",
       " ('2017-03-26', 76),\n",
       " ('2017-03-27', 75),\n",
       " ('2017-03-28', 77),\n",
       " ('2017-03-29', 76),\n",
       " ('2017-03-30', 77),\n",
       " ('2017-03-31', 76),\n",
       " ('2017-04-01', 76),\n",
       " ('2017-04-02', 76),\n",
       " ('2017-04-03', 77),\n",
       " ('2017-04-04', 76),\n",
       " ('2017-04-05', 78),\n",
       " ('2017-04-06', 77),\n",
       " ('2017-04-07', 77),\n",
       " ('2017-04-08', 77),\n",
       " ('2017-04-09', 72),\n",
       " ('2017-04-10', 75),\n",
       " ('2017-04-11', 79),\n",
       " ('2017-04-12', 78),\n",
       " ('2017-04-13', 77),\n",
       " ('2017-04-14', 75),\n",
       " ('2017-04-15', 73),\n",
       " ('2017-04-16', 74),\n",
       " ('2017-04-17', 74),\n",
       " ('2017-04-18', 75),\n",
       " ('2017-04-19', 74),\n",
       " ('2017-04-20', 78),\n",
       " ('2017-04-21', 73),\n",
       " ('2017-04-22', 76),\n",
       " ('2017-04-23', 77),\n",
       " ('2017-04-24', 77),\n",
       " ('2017-04-25', 77),\n",
       " ('2017-04-26', 77),\n",
       " ('2017-04-27', 78),\n",
       " ('2017-04-28', 76),\n",
       " ('2017-04-29', 72),\n",
       " ('2017-04-30', 63),\n",
       " ('2017-05-01', 75),\n",
       " ('2017-05-02', 78),\n",
       " ('2017-05-03', 78),\n",
       " ('2017-05-04', 78),\n",
       " ('2017-05-05', 79),\n",
       " ('2017-05-06', 79),\n",
       " ('2017-05-07', 79),\n",
       " ('2017-05-08', 77),\n",
       " ('2017-05-10', 78),\n",
       " ('2017-05-11', 78),\n",
       " ('2017-05-12', 79),\n",
       " ('2017-05-13', 79),\n",
       " ('2017-05-14', 77),\n",
       " ('2017-05-15', 78),\n",
       " ('2017-05-16', 78),\n",
       " ('2017-05-17', 78),\n",
       " ('2017-05-18', 73),\n",
       " ('2017-05-19', 76),\n",
       " ('2017-05-20', 78),\n",
       " ('2017-05-21', 76),\n",
       " ('2017-05-22', 77),\n",
       " ('2017-05-23', 87),\n",
       " ('2017-05-24', 77),\n",
       " ('2017-05-25', 77),\n",
       " ('2017-05-27', 74),\n",
       " ('2017-05-28', 76),\n",
       " ('2017-05-29', 75),\n",
       " ('2017-05-30', 76),\n",
       " ('2017-05-31', 79),\n",
       " ('2017-06-01', 79),\n",
       " ('2017-06-02', 79),\n",
       " ('2017-06-03', 79),\n",
       " ('2017-06-04', 79),\n",
       " ('2017-06-05', 80),\n",
       " ('2017-06-06', 79),\n",
       " ('2017-06-07', 79),\n",
       " ('2017-06-08', 80),\n",
       " ('2017-06-09', 80),\n",
       " ('2017-06-10', 77),\n",
       " ('2017-06-11', 79),\n",
       " ('2017-06-12', 83),\n",
       " ('2017-06-13', 80),\n",
       " ('2017-06-14', 80),\n",
       " ('2017-06-15', 78),\n",
       " ('2017-06-16', 79),\n",
       " ('2017-06-17', 80),\n",
       " ('2017-06-18', 77),\n",
       " ('2017-06-19', 80),\n",
       " ('2017-06-20', 78),\n",
       " ('2017-06-21', 79),\n",
       " ('2017-06-22', 80),\n",
       " ('2017-06-23', 78),\n",
       " ('2017-06-24', 80),\n",
       " ('2017-06-25', 80),\n",
       " ('2017-06-26', 81),\n",
       " ('2017-06-27', 80),\n",
       " ('2017-06-28', 79),\n",
       " ('2017-06-29', 79),\n",
       " ('2017-06-30', 75),\n",
       " ('2017-07-01', 80),\n",
       " ('2017-07-02', 80),\n",
       " ('2017-07-03', 78),\n",
       " ('2017-07-04', 80),\n",
       " ('2017-07-05', 80),\n",
       " ('2017-07-06', 81),\n",
       " ('2017-07-07', 79),\n",
       " ('2017-07-08', 80),\n",
       " ('2017-07-09', 80),\n",
       " ('2017-07-10', 80),\n",
       " ('2017-07-11', 78),\n",
       " ('2017-07-12', 81),\n",
       " ('2017-07-13', 79),\n",
       " ('2017-07-14', 81),\n",
       " ('2017-07-15', 80),\n",
       " ('2017-07-16', 78),\n",
       " ('2017-07-17', 80),\n",
       " ('2017-07-18', 80),\n",
       " ('2017-07-20', 80),\n",
       " ('2017-07-21', 80),\n",
       " ('2017-07-22', 81),\n",
       " ('2017-07-23', 81),\n",
       " ('2017-07-24', 78),\n",
       " ('2017-07-25', 80),\n",
       " ('2017-07-26', 82),\n",
       " ('2017-07-27', 79),\n",
       " ('2017-07-28', 81),\n",
       " ('2017-07-29', 81),\n",
       " ('2017-07-30', 81),\n",
       " ('2017-07-31', 80),\n",
       " ('2017-08-01', 77),\n",
       " ('2017-08-02', 73),\n",
       " ('2017-08-03', 79),\n",
       " ('2017-08-04', 80),\n",
       " ('2017-08-05', 81),\n",
       " ('2017-08-06', 80),\n",
       " ('2017-08-07', 80),\n",
       " ('2017-08-08', 80),\n",
       " ('2017-08-09', 80),\n",
       " ('2017-08-10', 81),\n",
       " ('2017-08-11', 78),\n",
       " ('2017-08-12', 80),\n",
       " ('2017-08-13', 81),\n",
       " ('2017-08-14', 79),\n",
       " ('2017-08-15', 78),\n",
       " ('2017-08-18', 80),\n",
       " ('2017-08-19', 79),\n",
       " ('2017-08-20', 81),\n",
       " ('2017-08-21', 81),\n",
       " ('2017-08-22', 82),\n",
       " ('2017-08-23', 81)]"
      ]
     },
     "execution_count": 13,
     "metadata": {},
     "output_type": "execute_result"
    }
   ],
   "source": [
    "tobs_12_months= session.query(Measurement.date, Measurement.tobs).filter(Measurement.station == \"USC00519397\").filter(Measurement.date >= (dt.date.today() - dt.timedelta(days=365))).all()\n",
    "tobs_12_months"
   ]
  },
  {
   "cell_type": "code",
   "execution_count": 14,
   "metadata": {},
   "outputs": [
    {
     "data": {
      "text/plain": [
       "date\n",
       "2017-01-23    72\n",
       "2017-01-24    69\n",
       "2017-01-25    72\n",
       "2017-01-26    71\n",
       "2017-01-27    65\n",
       "Name: tobs, dtype: int64"
      ]
     },
     "execution_count": 14,
     "metadata": {},
     "output_type": "execute_result"
    }
   ],
   "source": [
    "tobs12= pd.DataFrame(tobs_12_months).set_index('date')\n",
    "tobs12.tobs[0:5]"
   ]
  },
  {
   "cell_type": "code",
   "execution_count": 15,
   "metadata": {},
   "outputs": [
    {
     "data": {
      "image/png": "[encoded data removed]",
      "text/plain": [
       "<matplotlib.figure.Figure at 0x212158fd208>"
      ]
     },
     "metadata": {},
     "output_type": "display_data"
    }
   ],
   "source": [
    "#Plot the results as a histogram with bins=12.\n",
    "\n",
    "num_bins = 12\n",
    "x= tobs12['tobs']\n",
    "plt.hist(x,num_bins, color='blue')\n",
    "plt.legend(tobs12)\n",
    "plt.ylabel('Frequency')\n",
    "\n",
    "plt.show()"
   ]
  },
  {
   "cell_type": "code",
   "execution_count": 16,
   "metadata": {
    "collapsed": true
   },
   "outputs": [],
   "source": [
    "start_date='2015-05-10'\n",
    "end_date='2015-05-25'"
   ]
  },
  {
   "cell_type": "code",
   "execution_count": 17,
   "metadata": {},
   "outputs": [
    {
     "data": {
      "text/plain": [
       "([(64)], [(79)], [(73.14150943396227)])"
      ]
     },
     "execution_count": 17,
     "metadata": {},
     "output_type": "execute_result"
    }
   ],
   "source": [
    "# Temperature Analysis\n",
    "# Write a function called calc_temps that will accept a start date and end date in the format %Y-%m-%d \n",
    "# and return the minimum, average, and maximum temperatures for that range of dates.\n",
    "\n",
    "def calc_temps (start, end):\n",
    "    min_temp = session.query(func.min(Measurement.tobs)).filter(Measurement.date >= start).filter(Measurement.date <= end).all()\n",
    "    avg_temp = session.query(func.avg(Measurement.tobs)).filter(Measurement.date >= start).filter(Measurement.date <= end).all()\n",
    "    max_temp = session.query(func.max(Measurement.tobs)).filter(Measurement.date >= start).filter(Measurement.date <= end).all()\n",
    "    \n",
    "    return min_temp, max_temp, avg_temp\n",
    "    \n",
    "temperature = calc_temps(start_date, end_date)\n",
    "temperature"
   ]
  },
  {
   "cell_type": "code",
   "execution_count": 18,
   "metadata": {},
   "outputs": [
    {
     "data": {
      "text/plain": [
       "15"
      ]
     },
     "execution_count": 18,
     "metadata": {},
     "output_type": "execute_result"
    }
   ],
   "source": [
    "\n",
    "avgb= temperature[2]\n",
    "maxbs= temperature[1]\n",
    "minbs= temperature[0]\n",
    "maxb = tuple(maxbs)[0]\n",
    "minb = tuple(minbs)[0]\n",
    "avb= tuple(avgb)[0]\n",
    "minb2 = minb[0]\n",
    "maxb2 = maxb[0]\n",
    "av= avb[0]\n",
    "tbs= maxb2-minb2\n",
    "tbs"
   ]
  },
  {
   "cell_type": "code",
   "execution_count": 20,
   "metadata": {},
   "outputs": [
    {
     "data": {
      "image/png": "[encoded data removed]",
      "text/plain": [
       "<matplotlib.figure.Figure at 0x21218863f98>"
      ]
     },
     "metadata": {},
     "output_type": "display_data"
    }
   ],
   "source": [
    "\n",
    "plt.bar(maxb2,height=av, yerr=tbs, align='center',width=.5)\n",
    "plt.gca().xaxis.set_major_locator(plt.NullLocator())\n",
    "plt.title('Trip Avg Temp')\n",
    "plt.ylabel('Temp (F)')\n",
    "plt.show()"
   ]
  }
 ],
 "metadata": {
  "kernelspec": {
   "display_name": "Python 3",
   "language": "python",
   "name": "python3"
  },
  "language_info": {
   "codemirror_mode": {
    "name": "ipython",
    "version": 3
   },
   "file_extension": ".py",
   "mimetype": "text/x-python",
   "name": "python",
   "nbconvert_exporter": "python",
   "pygments_lexer": "ipython3",
   "version": "3.6.1"
  }
 },
 "nbformat": 4,
 "nbformat_minor": 2
}
